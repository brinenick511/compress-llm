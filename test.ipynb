{
 "cells": [
  {
   "cell_type": "code",
   "execution_count": 2,
   "id": "2f2bd1a9",
   "metadata": {},
   "outputs": [
    {
     "name": "stderr",
     "output_type": "stream",
     "text": [
      "Loading checkpoint shards: 100%|██████████| 2/2 [01:31<00:00, 45.94s/it]\n",
      "Setting `pad_token_id` to `eos_token_id`:128001 for open-end generation.\n"
     ]
    },
    {
     "name": "stdout",
     "output_type": "stream",
     "text": [
      "Hello! How are you? and are not. and are not. and are not. and are not. and are\n"
     ]
    }
   ],
   "source": [
    "import torch\n",
    "from transformers import AutoTokenizer, AutoModelForCausalLM\n",
    "\n",
    "device = torch.device(\"cuda:1\" if torch.cuda.is_available() else \"cpu\")\n",
    "\n",
    "model_path = \"/data/yanghq/models/meta-llama/Llama-3.2-3B-Instruct\"\n",
    "model_path = \"/data/yanghq/models/custom/svd-30\"\n",
    "\n",
    "model = AutoModelForCausalLM.from_pretrained(\n",
    "    model_path,\n",
    "    trust_remote_code=True,\n",
    "    torch_dtype=torch.bfloat16,\n",
    ")\n",
    "model = model.to(device)\n",
    "torch.cuda.empty_cache()\n",
    "tokenizer = AutoTokenizer.from_pretrained(model_path)\n",
    "\n",
    "input_text = \"Hello! How are you?\"\n",
    "inputs = tokenizer(input_text, return_tensors=\"pt\").to(device)\n",
    "\n",
    "with torch.no_grad():\n",
    "    output = model.generate(**inputs, max_length=25)\n",
    "\n",
    "generated_text = tokenizer.decode(output[0], skip_special_tokens=True)\n",
    "print(generated_text)\n"
   ]
  },
  {
   "cell_type": "code",
   "execution_count": 1,
   "id": "db503377",
   "metadata": {},
   "outputs": [
    {
     "name": "stderr",
     "output_type": "stream",
     "text": [
      "/data/yanghq/utils/anaconda3/envs/svd/lib/python3.9/site-packages/tqdm/auto.py:21: TqdmWarning: IProgress not found. Please update jupyter and ipywidgets. See https://ipywidgets.readthedocs.io/en/stable/user_install.html\n",
      "  from .autonotebook import tqdm as notebook_tqdm\n"
     ]
    },
    {
     "name": "stdout",
     "output_type": "stream",
     "text": [
      "INFO 06-13 13:39:11 [__init__.py:244] Automatically detected platform cuda.\n"
     ]
    },
    {
     "name": "stderr",
     "output_type": "stream",
     "text": [
      "2025-06-13 13:39:13,356\tINFO util.py:154 -- Missing packages: ['ipywidgets']. Run `pip install -U ipywidgets`, then restart the notebook server for rich notebook output.\n"
     ]
    },
    {
     "name": "stdout",
     "output_type": "stream",
     "text": [
      "INFO 06-13 13:39:22 [config.py:823] This model supports multiple tasks: {'embed', 'score', 'generate', 'reward', 'classify'}. Defaulting to 'generate'.\n",
      "INFO 06-13 13:39:22 [config.py:2195] Chunked prefill is enabled with max_num_batched_tokens=8192.\n",
      "INFO 06-13 13:39:24 [core.py:455] Waiting for init message from front-end.\n",
      "INFO 06-13 13:39:24 [core.py:70] Initializing a V1 LLM engine (v0.9.2.dev1+gae5efe7e6) with config: model='/data/yanghq/models/meta-llama/Llama-3.2-3B-Instruct', speculative_config=None, tokenizer='/data/yanghq/models/meta-llama/Llama-3.2-3B-Instruct', skip_tokenizer_init=False, tokenizer_mode=auto, revision=None, override_neuron_config={}, tokenizer_revision=None, trust_remote_code=True, dtype=torch.bfloat16, max_seq_len=2048, download_dir=None, load_format=auto, tensor_parallel_size=1, pipeline_parallel_size=1, disable_custom_all_reduce=False, quantization=None, enforce_eager=False, kv_cache_dtype=auto,  device_config=cuda, decoding_config=DecodingConfig(backend='auto', disable_fallback=False, disable_any_whitespace=False, disable_additional_properties=False, reasoning_backend=''), observability_config=ObservabilityConfig(show_hidden_metrics_for_version=None, otlp_traces_endpoint=None, collect_detailed_traces=None), seed=0, served_model_name=/data/yanghq/models/meta-llama/Llama-3.2-3B-Instruct, num_scheduler_steps=1, multi_step_stream_outputs=True, enable_prefix_caching=True, chunked_prefill_enabled=True, use_async_output_proc=True, pooler_config=None, compilation_config={\"level\":3,\"debug_dump_path\":\"\",\"cache_dir\":\"\",\"backend\":\"\",\"custom_ops\":[\"none\"],\"splitting_ops\":[\"vllm.unified_attention\",\"vllm.unified_attention_with_output\"],\"use_inductor\":true,\"compile_sizes\":[],\"inductor_compile_config\":{\"enable_auto_functionalized_v2\":false},\"inductor_passes\":{},\"use_cudagraph\":true,\"cudagraph_num_of_warmups\":1,\"cudagraph_capture_sizes\":[512,504,496,488,480,472,464,456,448,440,432,424,416,408,400,392,384,376,368,360,352,344,336,328,320,312,304,296,288,280,272,264,256,248,240,232,224,216,208,200,192,184,176,168,160,152,144,136,128,120,112,104,96,88,80,72,64,56,48,40,32,24,16,8,4,2,1],\"cudagraph_copy_inputs\":false,\"full_cuda_graph\":false,\"max_capture_size\":512,\"local_cache_dir\":null}\n",
      "WARNING 06-13 13:39:24 [utils.py:2737] Methods determine_num_available_blocks,device_config,get_cache_block_size_bytes,initialize_cache not implemented in <vllm.v1.worker.gpu_worker.Worker object at 0x7fa5cab72a30>\n",
      "INFO 06-13 13:39:25 [parallel_state.py:1065] rank 0 in world size 1 is assigned as DP rank 0, PP rank 0, TP rank 0, EP rank 0\n",
      "WARNING 06-13 13:39:25 [topk_topp_sampler.py:59] FlashInfer is not available. Falling back to the PyTorch-native implementation of top-p & top-k sampling. For the best performance, please install FlashInfer.\n",
      "INFO 06-13 13:39:25 [gpu_model_runner.py:1596] Starting to load model /data/yanghq/models/meta-llama/Llama-3.2-3B-Instruct...\n",
      "INFO 06-13 13:39:25 [gpu_model_runner.py:1601] Loading model from scratch...\n",
      "INFO 06-13 13:39:25 [cuda.py:252] Using Flash Attention backend on V1 engine.\n"
     ]
    },
    {
     "name": "stderr",
     "output_type": "stream",
     "text": [
      "Loading safetensors checkpoint shards:   0% Completed | 0/2 [00:00<?, ?it/s]\n",
      "Loading safetensors checkpoint shards:  50% Completed | 1/2 [00:00<00:00,  4.11it/s]\n",
      "Loading safetensors checkpoint shards: 100% Completed | 2/2 [00:01<00:00,  1.62it/s]\n",
      "Loading safetensors checkpoint shards: 100% Completed | 2/2 [00:01<00:00,  1.78it/s]\n",
      "\n"
     ]
    },
    {
     "name": "stdout",
     "output_type": "stream",
     "text": [
      "INFO 06-13 13:39:27 [default_loader.py:272] Loading weights took 1.29 seconds\n",
      "INFO 06-13 13:39:27 [gpu_model_runner.py:1625] Model loading took 6.0160 GiB and 1.587052 seconds\n",
      "INFO 06-13 13:39:33 [backends.py:462] Using cache directory: /data/yanghq/.cache/vllm/torch_compile_cache/a2bf5b80fb/rank_0_0 for vLLM's torch.compile\n",
      "INFO 06-13 13:39:33 [backends.py:472] Dynamo bytecode transform time: 5.96 s\n",
      "INFO 06-13 13:39:38 [backends.py:135] Directly load the compiled graph(s) for shape None from the cache, took 4.406 s\n",
      "INFO 06-13 13:39:39 [monitor.py:34] torch.compile takes 5.96 s in total\n",
      "INFO 06-13 13:39:40 [gpu_worker.py:227] Available KV cache memory: 9.34 GiB\n",
      "INFO 06-13 13:39:40 [kv_cache_utils.py:715] GPU KV cache size: 87,408 tokens\n",
      "INFO 06-13 13:39:40 [kv_cache_utils.py:719] Maximum concurrency for 2,048 tokens per request: 42.68x\n",
      "INFO 06-13 13:39:56 [gpu_model_runner.py:2049] Graph capturing finished in 16 secs, took 1.41 GiB\n",
      "INFO 06-13 13:39:56 [core.py:171] init engine (profile, create kv cache, warmup model) took 29.15 seconds\n"
     ]
    },
    {
     "name": "stderr",
     "output_type": "stream",
     "text": [
      "Adding requests: 100%|██████████| 2/2 [00:00<00:00, 67.95it/s]\n",
      "Processed prompts: 100%|██████████| 2/2 [00:00<00:00,  4.16it/s, est. speed input: 29.16 toks/s, output: 166.64 toks/s]"
     ]
    },
    {
     "name": "stdout",
     "output_type": "stream",
     "text": [
      "\n",
      "Generated Outputs:\n",
      "------\n",
      "Prompt:    'Hello, my name is'\n",
      "Output:    ' Helen and I am from Shanghai. I am excited to introduce you to the city that I call home. Shanghai is a vibrant and dynamic city, known for its rich history, stunning architecture, and world'\n",
      "------\n",
      "Prompt:    'The president of the United States is'\n",
      "Output:    ' elected through a complex process, with a multi-step process that involves several branches of the government. The process has evolved over time, and there have been controversies and disputes over the years. Here is an'\n",
      "------\n"
     ]
    },
    {
     "name": "stderr",
     "output_type": "stream",
     "text": [
      "\n"
     ]
    }
   ],
   "source": [
    "from vllm import LLM, SamplingParams\n",
    "\n",
    "model_path = \"/data/yanghq/models/meta-llama/Llama-3.2-3B-Instruct\"\n",
    "\n",
    "prompts = [\n",
    "    \"Hello, my name is\",\n",
    "    \"The president of the United States is\",\n",
    "]\n",
    "sampling_params = SamplingParams(temperature=0.8, top_p=0.95,max_tokens=40)\n",
    "llm = LLM(\n",
    "    model=model_path,\n",
    "    trust_remote_code=True,\n",
    "    dtype='bfloat16',\n",
    "    gpu_memory_utilization=0.7,\n",
    "    max_model_len=2048,\n",
    ")\n",
    "outputs = llm.generate(prompts, sampling_params)\n",
    "print(\"\\nGenerated Outputs:\\n\" + \"-\" * 6)\n",
    "for output in outputs:\n",
    "    prompt = output.prompt\n",
    "    generated_text = output.outputs[0].text\n",
    "    print(f\"Prompt:    {prompt!r}\")\n",
    "    print(f\"Output:    {generated_text!r}\")\n",
    "    print(\"-\" * 6)\n"
   ]
  },
  {
   "cell_type": "code",
   "execution_count": null,
   "id": "7490d3d3",
   "metadata": {},
   "outputs": [],
   "source": []
  }
 ],
 "metadata": {
  "kernelspec": {
   "display_name": "svd",
   "language": "python",
   "name": "python3"
  },
  "language_info": {
   "codemirror_mode": {
    "name": "ipython",
    "version": 3
   },
   "file_extension": ".py",
   "mimetype": "text/x-python",
   "name": "python",
   "nbconvert_exporter": "python",
   "pygments_lexer": "ipython3",
   "version": "3.9.23"
  }
 },
 "nbformat": 4,
 "nbformat_minor": 5
}
